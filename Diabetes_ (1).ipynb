{
  "nbformat": 4,
  "nbformat_minor": 0,
  "metadata": {
    "colab": {
      "provenance": []
    },
    "kernelspec": {
      "name": "python3",
      "display_name": "Python 3"
    },
    "language_info": {
      "name": "python"
    }
  },
  "cells": [
    {
      "cell_type": "markdown",
      "source": [
        "# Diabetes classification"
      ],
      "metadata": {
        "id": "ZZbHWsbTn7vq"
      }
    },
    {
      "cell_type": "markdown",
      "source": [
        "# **Importing the libraries**\n",
        "\n",
        "1.   **NumPy** is used for numerical computing.\n",
        "2.   **Pandas** is used for data manipulation.\n",
        "3.   **Matplotlib** is a plotting library for creating visualizations.\n",
        "4.   **Seaborn** is a data visualization library creating attractive statistical graphics, such as heatmaps etc.\n",
        "5.   **Scikit-learn**, this function is used to split datasets into training and testing sets for machine learning model evaluation.\n",
        "6.   **KNeighborsClassifier** is a classification algorithm from scikit-learn that implements the k-nearest neighbors algorithm for classification tasks.\n",
        "7.   **RandomForestClassifier**  builds multiple decision trees during training and combines their predictions to improve accuracy and reduce overfitting.\n",
        "8.   **make_classification** is a function in scikit-learn used to generate synthetic classification datasets for testing machine learning models.\n",
        "9.   **Support** **Vector** **Machines** (SVM) are supervised learning models used for classification, regression, and outlier detection.\n",
        "10.  **Metrics** for evaluating the performance of machine learning models, such as accuracy, precision, recall etc\n",
        "11.  **sklearn.preprocessing** Provides functions for preprocessing data before feeding it into machine learning models.\n",
        "12.   **confusion_matrix** calculates a confusion matrix to assess the model's predictions.\n",
        "    \n",
        "\n",
        "\n",
        "\n",
        "\n",
        "\n"
      ],
      "metadata": {
        "id": "L5DbISLvuBVi"
      }
    },
    {
      "cell_type": "code",
      "execution_count": null,
      "metadata": {
        "id": "YnxDP807mxx4"
      },
      "outputs": [],
      "source": [
        "import numpy as np\n",
        "import pandas as pd\n",
        "import matplotlib.pyplot as plt\n",
        "import seaborn as sns\n",
        "\n",
        "from sklearn.model_selection import train_test_split\n",
        "from sklearn.neighbors import KNeighborsClassifier\n",
        "from sklearn.ensemble import RandomForestClassifier\n",
        "from sklearn.datasets import make_classification\n",
        "from sklearn import svm\n",
        "\n",
        "\n",
        "from sklearn import metrics\n",
        "from sklearn import preprocessing\n",
        "\n",
        "\n",
        "from warnings import filterwarnings\n",
        "import requests\n",
        "from sklearn.metrics import hinge_loss , confusion_matrix , classification_report\n",
        "\n",
        "from warnings import filterwarnings\n",
        "\n",
        "filterwarnings(\"ignore\")\n"
      ]
    },
    {
      "cell_type": "markdown",
      "source": [
        "#  Data Loading and Initial Analysis\n"
      ],
      "metadata": {
        "id": "pjhgBFw-BNJj"
      }
    },
    {
      "cell_type": "code",
      "source": [
        "#reading the data\n",
        "d_data = pd.read_csv(\"diabetes.csv\")\n",
        "d_data"
      ],
      "metadata": {
        "colab": {
          "base_uri": "https://localhost:8080/",
          "height": 321
        },
        "id": "f3X7f5y_ny1t",
        "outputId": "bac9f6a0-3cf2-4c99-f336-77ab76c74464",
        "collapsed": true
      },
      "execution_count": null,
      "outputs": [
        {
          "output_type": "error",
          "ename": "FileNotFoundError",
          "evalue": "[Errno 2] No such file or directory: 'diabetes.csv'",
          "traceback": [
            "\u001b[0;31m---------------------------------------------------------------------------\u001b[0m",
            "\u001b[0;31mFileNotFoundError\u001b[0m                         Traceback (most recent call last)",
            "\u001b[0;32m<ipython-input-2-41f7f1e5d108>\u001b[0m in \u001b[0;36m<cell line: 2>\u001b[0;34m()\u001b[0m\n\u001b[1;32m      1\u001b[0m \u001b[0;31m#reading the data\u001b[0m\u001b[0;34m\u001b[0m\u001b[0;34m\u001b[0m\u001b[0m\n\u001b[0;32m----> 2\u001b[0;31m \u001b[0md_data\u001b[0m \u001b[0;34m=\u001b[0m \u001b[0mpd\u001b[0m\u001b[0;34m.\u001b[0m\u001b[0mread_csv\u001b[0m\u001b[0;34m(\u001b[0m\u001b[0;34m\"diabetes.csv\"\u001b[0m\u001b[0;34m)\u001b[0m\u001b[0;34m\u001b[0m\u001b[0;34m\u001b[0m\u001b[0m\n\u001b[0m\u001b[1;32m      3\u001b[0m \u001b[0md_data\u001b[0m\u001b[0;34m\u001b[0m\u001b[0;34m\u001b[0m\u001b[0m\n",
            "\u001b[0;32m/usr/local/lib/python3.10/dist-packages/pandas/io/parsers/readers.py\u001b[0m in \u001b[0;36mread_csv\u001b[0;34m(filepath_or_buffer, sep, delimiter, header, names, index_col, usecols, dtype, engine, converters, true_values, false_values, skipinitialspace, skiprows, skipfooter, nrows, na_values, keep_default_na, na_filter, verbose, skip_blank_lines, parse_dates, infer_datetime_format, keep_date_col, date_parser, date_format, dayfirst, cache_dates, iterator, chunksize, compression, thousands, decimal, lineterminator, quotechar, quoting, doublequote, escapechar, comment, encoding, encoding_errors, dialect, on_bad_lines, delim_whitespace, low_memory, memory_map, float_precision, storage_options, dtype_backend)\u001b[0m\n\u001b[1;32m    910\u001b[0m     \u001b[0mkwds\u001b[0m\u001b[0;34m.\u001b[0m\u001b[0mupdate\u001b[0m\u001b[0;34m(\u001b[0m\u001b[0mkwds_defaults\u001b[0m\u001b[0;34m)\u001b[0m\u001b[0;34m\u001b[0m\u001b[0;34m\u001b[0m\u001b[0m\n\u001b[1;32m    911\u001b[0m \u001b[0;34m\u001b[0m\u001b[0m\n\u001b[0;32m--> 912\u001b[0;31m     \u001b[0;32mreturn\u001b[0m \u001b[0m_read\u001b[0m\u001b[0;34m(\u001b[0m\u001b[0mfilepath_or_buffer\u001b[0m\u001b[0;34m,\u001b[0m \u001b[0mkwds\u001b[0m\u001b[0;34m)\u001b[0m\u001b[0;34m\u001b[0m\u001b[0;34m\u001b[0m\u001b[0m\n\u001b[0m\u001b[1;32m    913\u001b[0m \u001b[0;34m\u001b[0m\u001b[0m\n\u001b[1;32m    914\u001b[0m \u001b[0;34m\u001b[0m\u001b[0m\n",
            "\u001b[0;32m/usr/local/lib/python3.10/dist-packages/pandas/io/parsers/readers.py\u001b[0m in \u001b[0;36m_read\u001b[0;34m(filepath_or_buffer, kwds)\u001b[0m\n\u001b[1;32m    575\u001b[0m \u001b[0;34m\u001b[0m\u001b[0m\n\u001b[1;32m    576\u001b[0m     \u001b[0;31m# Create the parser.\u001b[0m\u001b[0;34m\u001b[0m\u001b[0;34m\u001b[0m\u001b[0m\n\u001b[0;32m--> 577\u001b[0;31m     \u001b[0mparser\u001b[0m \u001b[0;34m=\u001b[0m \u001b[0mTextFileReader\u001b[0m\u001b[0;34m(\u001b[0m\u001b[0mfilepath_or_buffer\u001b[0m\u001b[0;34m,\u001b[0m \u001b[0;34m**\u001b[0m\u001b[0mkwds\u001b[0m\u001b[0;34m)\u001b[0m\u001b[0;34m\u001b[0m\u001b[0;34m\u001b[0m\u001b[0m\n\u001b[0m\u001b[1;32m    578\u001b[0m \u001b[0;34m\u001b[0m\u001b[0m\n\u001b[1;32m    579\u001b[0m     \u001b[0;32mif\u001b[0m \u001b[0mchunksize\u001b[0m \u001b[0;32mor\u001b[0m \u001b[0miterator\u001b[0m\u001b[0;34m:\u001b[0m\u001b[0;34m\u001b[0m\u001b[0;34m\u001b[0m\u001b[0m\n",
            "\u001b[0;32m/usr/local/lib/python3.10/dist-packages/pandas/io/parsers/readers.py\u001b[0m in \u001b[0;36m__init__\u001b[0;34m(self, f, engine, **kwds)\u001b[0m\n\u001b[1;32m   1405\u001b[0m \u001b[0;34m\u001b[0m\u001b[0m\n\u001b[1;32m   1406\u001b[0m         \u001b[0mself\u001b[0m\u001b[0;34m.\u001b[0m\u001b[0mhandles\u001b[0m\u001b[0;34m:\u001b[0m \u001b[0mIOHandles\u001b[0m \u001b[0;34m|\u001b[0m \u001b[0;32mNone\u001b[0m \u001b[0;34m=\u001b[0m \u001b[0;32mNone\u001b[0m\u001b[0;34m\u001b[0m\u001b[0;34m\u001b[0m\u001b[0m\n\u001b[0;32m-> 1407\u001b[0;31m         \u001b[0mself\u001b[0m\u001b[0;34m.\u001b[0m\u001b[0m_engine\u001b[0m \u001b[0;34m=\u001b[0m \u001b[0mself\u001b[0m\u001b[0;34m.\u001b[0m\u001b[0m_make_engine\u001b[0m\u001b[0;34m(\u001b[0m\u001b[0mf\u001b[0m\u001b[0;34m,\u001b[0m \u001b[0mself\u001b[0m\u001b[0;34m.\u001b[0m\u001b[0mengine\u001b[0m\u001b[0;34m)\u001b[0m\u001b[0;34m\u001b[0m\u001b[0;34m\u001b[0m\u001b[0m\n\u001b[0m\u001b[1;32m   1408\u001b[0m \u001b[0;34m\u001b[0m\u001b[0m\n\u001b[1;32m   1409\u001b[0m     \u001b[0;32mdef\u001b[0m \u001b[0mclose\u001b[0m\u001b[0;34m(\u001b[0m\u001b[0mself\u001b[0m\u001b[0;34m)\u001b[0m \u001b[0;34m->\u001b[0m \u001b[0;32mNone\u001b[0m\u001b[0;34m:\u001b[0m\u001b[0;34m\u001b[0m\u001b[0;34m\u001b[0m\u001b[0m\n",
            "\u001b[0;32m/usr/local/lib/python3.10/dist-packages/pandas/io/parsers/readers.py\u001b[0m in \u001b[0;36m_make_engine\u001b[0;34m(self, f, engine)\u001b[0m\n\u001b[1;32m   1659\u001b[0m                 \u001b[0;32mif\u001b[0m \u001b[0;34m\"b\"\u001b[0m \u001b[0;32mnot\u001b[0m \u001b[0;32min\u001b[0m \u001b[0mmode\u001b[0m\u001b[0;34m:\u001b[0m\u001b[0;34m\u001b[0m\u001b[0;34m\u001b[0m\u001b[0m\n\u001b[1;32m   1660\u001b[0m                     \u001b[0mmode\u001b[0m \u001b[0;34m+=\u001b[0m \u001b[0;34m\"b\"\u001b[0m\u001b[0;34m\u001b[0m\u001b[0;34m\u001b[0m\u001b[0m\n\u001b[0;32m-> 1661\u001b[0;31m             self.handles = get_handle(\n\u001b[0m\u001b[1;32m   1662\u001b[0m                 \u001b[0mf\u001b[0m\u001b[0;34m,\u001b[0m\u001b[0;34m\u001b[0m\u001b[0;34m\u001b[0m\u001b[0m\n\u001b[1;32m   1663\u001b[0m                 \u001b[0mmode\u001b[0m\u001b[0;34m,\u001b[0m\u001b[0;34m\u001b[0m\u001b[0;34m\u001b[0m\u001b[0m\n",
            "\u001b[0;32m/usr/local/lib/python3.10/dist-packages/pandas/io/common.py\u001b[0m in \u001b[0;36mget_handle\u001b[0;34m(path_or_buf, mode, encoding, compression, memory_map, is_text, errors, storage_options)\u001b[0m\n\u001b[1;32m    857\u001b[0m         \u001b[0;32mif\u001b[0m \u001b[0mioargs\u001b[0m\u001b[0;34m.\u001b[0m\u001b[0mencoding\u001b[0m \u001b[0;32mand\u001b[0m \u001b[0;34m\"b\"\u001b[0m \u001b[0;32mnot\u001b[0m \u001b[0;32min\u001b[0m \u001b[0mioargs\u001b[0m\u001b[0;34m.\u001b[0m\u001b[0mmode\u001b[0m\u001b[0;34m:\u001b[0m\u001b[0;34m\u001b[0m\u001b[0;34m\u001b[0m\u001b[0m\n\u001b[1;32m    858\u001b[0m             \u001b[0;31m# Encoding\u001b[0m\u001b[0;34m\u001b[0m\u001b[0;34m\u001b[0m\u001b[0m\n\u001b[0;32m--> 859\u001b[0;31m             handle = open(\n\u001b[0m\u001b[1;32m    860\u001b[0m                 \u001b[0mhandle\u001b[0m\u001b[0;34m,\u001b[0m\u001b[0;34m\u001b[0m\u001b[0;34m\u001b[0m\u001b[0m\n\u001b[1;32m    861\u001b[0m                 \u001b[0mioargs\u001b[0m\u001b[0;34m.\u001b[0m\u001b[0mmode\u001b[0m\u001b[0;34m,\u001b[0m\u001b[0;34m\u001b[0m\u001b[0;34m\u001b[0m\u001b[0m\n",
            "\u001b[0;31mFileNotFoundError\u001b[0m: [Errno 2] No such file or directory: 'diabetes.csv'"
          ]
        }
      ]
    },
    {
      "cell_type": "code",
      "source": [
        "#Converting into Data Frame\n",
        "\n",
        "df = pd.DataFrame(d_data)\n",
        "df.describe(include='all')\n"
      ],
      "metadata": {
        "id": "4QH197BvkthL"
      },
      "execution_count": null,
      "outputs": []
    },
    {
      "cell_type": "code",
      "source": [
        "#checking for the missing values\n",
        "df.isnull().sum()"
      ],
      "metadata": {
        "id": "O1jKe-cAopTM"
      },
      "execution_count": null,
      "outputs": []
    },
    {
      "cell_type": "markdown",
      "source": [
        "# Data Cleaning"
      ],
      "metadata": {
        "id": "u9t4q5iSCFZ5"
      }
    },
    {
      "cell_type": "code",
      "source": [
        "df.Age = abs(df.Age)\n",
        "df.Age = round(df.Age)\n",
        "df.Insulin = abs(df.Insulin)"
      ],
      "metadata": {
        "id": "sbyH4LQVlJLH"
      },
      "execution_count": null,
      "outputs": []
    },
    {
      "cell_type": "code",
      "source": [
        "df.describe(include='all')"
      ],
      "metadata": {
        "id": "XpWG1-nVltPK"
      },
      "execution_count": null,
      "outputs": []
    },
    {
      "cell_type": "code",
      "source": [
        "df.info()"
      ],
      "metadata": {
        "id": "hi3rfXsrmNIt"
      },
      "execution_count": null,
      "outputs": []
    },
    {
      "cell_type": "markdown",
      "source": [
        "# Expoloratory Data Analysis"
      ],
      "metadata": {
        "id": "MohOkoLwFTrX"
      }
    },
    {
      "cell_type": "code",
      "source": [
        "for column in df.drop(columns=['Outcome','Pregnancies','BloodPressure']).columns :\n",
        "    plt.figure(figsize=(15,10))\n",
        "    sns.relplot(data = df,x = column ,y = 'BloodPressure' ,hue = 'Outcome')\n",
        "    plt.title(column+\" & BloodPressure\")\n",
        "    plt.xticks(rotation=90)\n",
        "    plt.xlabel(column)\n",
        "    plt.ylabel('BloodPressure')\n",
        "    plt.show()"
      ],
      "metadata": {
        "id": "C1fwPYfjmUhM"
      },
      "execution_count": null,
      "outputs": []
    },
    {
      "cell_type": "code",
      "source": [
        "#correlation heatmap\n",
        "\n",
        "corr= df.corr()\n",
        "plt.figure(figsize=(20,15))\n",
        "matrix = np.triu(corr)\n",
        "sns.heatmap(corr, annot=True, mask=matrix)\n"
      ],
      "metadata": {
        "id": "PncyRm5HpM-P"
      },
      "execution_count": null,
      "outputs": []
    },
    {
      "cell_type": "code",
      "source": [
        "#Histograms of all features\n",
        "\n",
        "df.hist(bins=50,figsize=(20,15),color = '#f77ea8')\n",
        "plt.show()\n"
      ],
      "metadata": {
        "id": "zEc5RHIRpYlY"
      },
      "execution_count": null,
      "outputs": []
    },
    {
      "cell_type": "code",
      "source": [
        "#Box plots of all features\n",
        "\n",
        "for column in df.drop('Outcome',axis = 1) :\n",
        "    sns.boxplot(x  = column, data = df,color='#88f8d1')\n",
        "    plt.title(column)\n",
        "    plt.grid()\n",
        "    plt.show()\n"
      ],
      "metadata": {
        "id": "C2s5z9n4pi5X"
      },
      "execution_count": null,
      "outputs": []
    },
    {
      "cell_type": "code",
      "source": [
        "#Countplot for Pregnancies by Outcome\n",
        "\n",
        "\n",
        "fig, ax1 = plt.subplots(figsize=(20,10))\n",
        "plt.grid()\n",
        "sns.set_theme(style=\"whitegrid\")\n",
        "plt.title('Number of pregnancies based on having diabetes or not',fontsize = 22)\n",
        "graph = sns.countplot(ax=ax1,x='Pregnancies', data=df , order = df['Pregnancies'].value_counts().index, hue='Outcome',)\n",
        "graph.set_xticklabels(graph.get_xticklabels())\n",
        "\n",
        "\n",
        "for p in graph.patches:\n",
        "    graph.annotate(p.get_height(), (p.get_x(), p.get_height()+1),fontsize=11,rotation=45)\n"
      ],
      "metadata": {
        "id": "vXM7E2eaqCEi"
      },
      "execution_count": null,
      "outputs": []
    },
    {
      "cell_type": "markdown",
      "source": [
        "# Data Normalization and Splitting\n",
        "\n",
        "\n",
        "1.   Drops the Outcome column from the DataFrame to focus on features.\n",
        "2.   Initializes a Min-Max scaler to scale features between 0 and 1.\n",
        "\n",
        "\n"
      ],
      "metadata": {
        "id": "YPLGx5_EGdVe"
      }
    },
    {
      "cell_type": "code",
      "source": [
        "dfx = df.drop(['Outcome'],axis = 1)\n"
      ],
      "metadata": {
        "id": "f5u7GiRDqLui"
      },
      "execution_count": null,
      "outputs": []
    },
    {
      "cell_type": "code",
      "source": [
        "Scaler = preprocessing.MinMaxScaler(feature_range = (0,1))\n",
        "Norm = Scaler.fit_transform(dfx)\n",
        "Norm_df = pd.DataFrame(Norm,columns=['Pregnancies','Glucose','BloodPressure','SkinThickness','Insulin',\n",
        "                                     'BMI','DiabetesPedigreeFunction','Age'] )\n"
      ],
      "metadata": {
        "id": "PMEY0_XFqTKd"
      },
      "execution_count": null,
      "outputs": []
    },
    {
      "cell_type": "code",
      "source": [
        "x = Norm_df\n",
        "y = df['Outcome'].values.reshape(-1,1)"
      ],
      "metadata": {
        "id": "acF6mc95qikC"
      },
      "execution_count": null,
      "outputs": []
    },
    {
      "cell_type": "markdown",
      "source": [
        "# Train-test splitting"
      ],
      "metadata": {
        "id": "MvlUCJkZG-25"
      }
    },
    {
      "cell_type": "code",
      "source": [
        "x_train , x_test , y_train , y_test = train_test_split(x,y,random_state = 1, test_size= 0.2)\n"
      ],
      "metadata": {
        "id": "TAkLPPQvqqnF"
      },
      "execution_count": null,
      "outputs": []
    },
    {
      "cell_type": "markdown",
      "source": [
        "# K-Nearest Neighbors(Uniform weights)"
      ],
      "metadata": {
        "id": "jlPGGKPbHOlH"
      }
    },
    {
      "cell_type": "code",
      "source": [
        "k = 6\n",
        "acc = np.zeros((k))\n",
        "\n",
        "for i in range(1,k+1):\n",
        "    model = KNeighborsClassifier(n_neighbors= i )\n",
        "    model.fit(x_train,y_train.ravel())\n",
        "    y_pred = model.predict(x_test)\n",
        "    acc[i-1] = metrics.accuracy_score(y_test , y_pred)\n",
        "acc\n",
        "\n",
        "# n_neighbors = 7 is the best(0.81168831)\n"
      ],
      "metadata": {
        "id": "qwUMR1pEqvTv"
      },
      "execution_count": null,
      "outputs": []
    },
    {
      "cell_type": "code",
      "source": [
        "#plotting train and test accurary\n",
        "\n",
        "train_acc = []\n",
        "test_acc = []\n",
        "\n",
        "neighbors_setting = range(1,6)\n",
        "\n",
        "for n_neighbor in neighbors_setting :\n",
        "    model = KNeighborsClassifier(n_neighbors= n_neighbor)\n",
        "    model.fit(x_train,y_train.ravel())\n",
        "    train_acc.append(model.score(x_train , y_train))\n",
        "    test_acc.append(model.score(x_test,y_test))\n",
        "\n",
        "plt.plot(neighbors_setting, train_acc,label = 'train')\n",
        "plt.plot(neighbors_setting,test_acc , label = 'test')\n",
        "plt.xlabel('number of K')\n",
        "plt.ylabel('accuracy')\n",
        "plt.legend()\n"
      ],
      "metadata": {
        "id": "QdP6MN4gq47F"
      },
      "execution_count": null,
      "outputs": []
    },
    {
      "cell_type": "code",
      "source": [
        "#Finding the best value for K and the final model\n",
        "\n",
        "kmodel = KNeighborsClassifier(n_neighbors= 7)\n",
        "kmodel.fit(x_train,y_train.ravel())\n",
        "y_pred = kmodel.predict(x_test)\n"
      ],
      "metadata": {
        "id": "L2axcevzrRF_"
      },
      "execution_count": null,
      "outputs": []
    },
    {
      "cell_type": "code",
      "source": [
        "print (\"Accuracy : \", metrics.accuracy_score(y_test, y_pred))\n"
      ],
      "metadata": {
        "id": "sZi1BxzCrTFO"
      },
      "execution_count": null,
      "outputs": []
    },
    {
      "cell_type": "code",
      "source": [
        "#confusion matrix and claasification report for KNN\n",
        "\n",
        "aq = confusion_matrix(y_test,y_pred)\n",
        "\n",
        "fig , ax = plt.subplots(figsize = (8,8))\n",
        "ax.imshow(aq)\n",
        "ax.grid(False)\n",
        "ax.xaxis.set(ticks= (0,1), ticklabels= ('predicted 0s','predicted 1s'))\n",
        "ax.yaxis.set(ticks= (0,1), ticklabels= ('actual 0s','actual 1s'))\n",
        "ax.set_ylim(1.5,-0.5)\n",
        "for i in range(2) :\n",
        "    for j in range(2) :\n",
        "        ax.text(j,i,aq[i,j] ,ha = 'center',va = 'center' , color = '#cb1c8b' )\n",
        "plt.show()"
      ],
      "metadata": {
        "id": "PObuUlIGrX-4"
      },
      "execution_count": null,
      "outputs": []
    },
    {
      "cell_type": "code",
      "source": [
        "print(classification_report(y_test,y_pred))"
      ],
      "metadata": {
        "id": "nVlobYvxrfJm"
      },
      "execution_count": null,
      "outputs": []
    },
    {
      "cell_type": "markdown",
      "source": [],
      "metadata": {
        "id": "TAkbCq70r2zR"
      }
    },
    {
      "cell_type": "markdown",
      "source": [
        "# Random Forest classifier"
      ],
      "metadata": {
        "id": "dhAlI_0oKY1S"
      }
    },
    {
      "cell_type": "code",
      "source": [
        "rmodel = RandomForestClassifier(max_depth= 2, random_state=0)\n",
        "rmodel.fit(x_train,y_train.ravel())\n",
        "\n",
        "y_pred = rmodel.predict(x_test)\n"
      ],
      "metadata": {
        "id": "eGMGv9ORrlgK"
      },
      "execution_count": null,
      "outputs": []
    },
    {
      "cell_type": "code",
      "source": [
        "print (\"Accuracy : \", metrics.accuracy_score(y_test, y_pred))\n"
      ],
      "metadata": {
        "id": "1W_hEXzesAGi"
      },
      "execution_count": null,
      "outputs": []
    },
    {
      "cell_type": "code",
      "source": [
        "#Confusion matrix for Random forest\n",
        "aq = confusion_matrix(y_test,y_pred)\n",
        "\n",
        "fig , ax = plt.subplots(figsize = (8,8))\n",
        "ax.imshow(aq)\n",
        "ax.grid(False)\n",
        "ax.xaxis.set(ticks= (0,1), ticklabels= ('predicted 0s','predicted 1s'))\n",
        "ax.yaxis.set(ticks= (0,1), ticklabels= ('actual 0s','actual 1s'))\n",
        "ax.set_ylim(1.5,-0.5)\n",
        "for i in range(2) :\n",
        "    for j in range(2) :\n",
        "        ax.text(j,i,aq[i,j] ,ha = 'center',va = 'center' , color = '#cb1c8b' )\n",
        "plt.show()"
      ],
      "metadata": {
        "id": "6gY7sQD-sCxd"
      },
      "execution_count": null,
      "outputs": []
    },
    {
      "cell_type": "code",
      "source": [
        "print(classification_report(y_test,y_pred))\n"
      ],
      "metadata": {
        "id": "HiizjeZrsHzI"
      },
      "execution_count": null,
      "outputs": []
    },
    {
      "cell_type": "code",
      "source": [
        "df1 = df[df['Outcome'] == 1]\n"
      ],
      "metadata": {
        "id": "f68Y0XtRsLak"
      },
      "execution_count": null,
      "outputs": []
    },
    {
      "cell_type": "code",
      "source": [
        "df2 = pd.concat([df, df1], ignore_index=True)\n",
        "df2\n"
      ],
      "metadata": {
        "id": "gOjU4XjrsTyS"
      },
      "execution_count": null,
      "outputs": []
    },
    {
      "cell_type": "code",
      "source": [
        "dfx = df2.drop(['Outcome'],axis = 1)\n"
      ],
      "metadata": {
        "id": "ITq9Bw2WsZQz"
      },
      "execution_count": null,
      "outputs": []
    },
    {
      "cell_type": "code",
      "source": [
        "Scaler = preprocessing.MinMaxScaler(feature_range = (0,1))\n",
        "Norm = Scaler.fit_transform(dfx)\n",
        "Norm_df = pd.DataFrame(Norm,columns=['Pregnancies','Glucose','BloodPressure','SkinThickness','Insulin',\n",
        "                                     'BMI','DiabetesPedigreeFunction','Age'] )\n"
      ],
      "metadata": {
        "id": "DdXOqfEssjZ7"
      },
      "execution_count": null,
      "outputs": []
    },
    {
      "cell_type": "code",
      "source": [
        "x = Norm_df\n",
        "y = df2['Outcome'].values.reshape(-1,1)\n"
      ],
      "metadata": {
        "id": "ikJQStuvsoWO"
      },
      "execution_count": null,
      "outputs": []
    },
    {
      "cell_type": "markdown",
      "source": [
        "# KNN model(Distance weights)"
      ],
      "metadata": {
        "id": "QFswZmJkvGap"
      }
    },
    {
      "cell_type": "code",
      "source": [
        "k = 20\n",
        "acc = np.zeros((k))\n",
        "\n",
        "for i in range(1,k+1):\n",
        "    model = KNeighborsClassifier(n_neighbors= i,weights='distance' )\n",
        "    model.fit(x_train,y_train.ravel())\n",
        "    y_pred = model.predict(x_test)\n",
        "    acc[i-1] = metrics.accuracy_score(y_test , y_pred)\n",
        "acc"
      ],
      "metadata": {
        "id": "iLo3NVa3sylf"
      },
      "execution_count": null,
      "outputs": []
    },
    {
      "cell_type": "code",
      "source": [
        "kmodel = KNeighborsClassifier(n_neighbors= 16,weights='distance')\n",
        "kmodel.fit(x_train,y_train.ravel())\n",
        "\n",
        "\n",
        "y_pred = kmodel.predict(x_test)\n"
      ],
      "metadata": {
        "id": "QXDyH8VOtNci"
      },
      "execution_count": null,
      "outputs": []
    },
    {
      "cell_type": "code",
      "source": [
        "print (\"Accuracy : \", metrics.accuracy_score(y_test, y_pred))\n",
        "#k=16\n"
      ],
      "metadata": {
        "id": "QFgpM5BdtSf8"
      },
      "execution_count": null,
      "outputs": []
    },
    {
      "cell_type": "code",
      "source": [
        "#confusion matrix\n",
        "aq = confusion_matrix(y_test,y_pred)\n",
        "\n",
        "fig , ax = plt.subplots(figsize = (8,8))\n",
        "ax.imshow(aq)\n",
        "ax.grid(False)\n",
        "ax.xaxis.set(ticks= (0,1), ticklabels= ('predicted 0s','predicted 1s'))\n",
        "ax.yaxis.set(ticks= (0,1), ticklabels= ('actual 0s','actual 1s'))\n",
        "ax.set_ylim(1.5,-0.5)\n",
        "for i in range(2) :\n",
        "    for j in range(2) :\n",
        "        ax.text(j,i,aq[i,j] ,ha = 'center',va = 'center',color = '#cb1c8b')\n",
        "plt.show()"
      ],
      "metadata": {
        "id": "GECRzn4AtWSG"
      },
      "execution_count": null,
      "outputs": []
    },
    {
      "cell_type": "code",
      "source": [
        "print(classification_report(y_test,y_pred))\n"
      ],
      "metadata": {
        "id": "hf8fEOh5tctE"
      },
      "execution_count": null,
      "outputs": []
    },
    {
      "cell_type": "markdown",
      "source": [
        "# Random Forest classifier"
      ],
      "metadata": {
        "id": "9oZafOpQIPEJ"
      }
    },
    {
      "cell_type": "code",
      "source": [
        "rmodel = RandomForestClassifier( max_depth= 20,n_estimators=500,criterion= 'entropy',random_state=0)\n",
        "rmodel.fit(x_train,y_train.ravel())\n",
        "\n",
        "y_pred = rmodel.predict(x_test)\n"
      ],
      "metadata": {
        "id": "fCgLuyq0tgnB"
      },
      "execution_count": null,
      "outputs": []
    },
    {
      "cell_type": "code",
      "source": [
        "print (\"Accuracy : \", metrics.accuracy_score(y_test, y_pred))\n"
      ],
      "metadata": {
        "id": "GfnrG-ETtyk-"
      },
      "execution_count": null,
      "outputs": []
    },
    {
      "cell_type": "code",
      "source": [
        "#confusion matrix for Random forest\n",
        "\n",
        "aq = confusion_matrix(y_test,y_pred)\n",
        "\n",
        "fig , ax = plt.subplots(figsize = (8,8))\n",
        "ax.imshow(aq)\n",
        "ax.grid(False)\n",
        "ax.xaxis.set(ticks= (0,1), ticklabels= ('predicted 0s','predicted 1s'))\n",
        "ax.yaxis.set(ticks= (0,1), ticklabels= ('actual 0s','actual 1s'))\n",
        "ax.set_ylim(1.5,-0.5)\n",
        "for i in range(2) :\n",
        "    for j in range(2) :\n",
        "        ax.text(j,i,aq[i,j] ,ha = 'center',va = 'center',color = '#cb1c8b')\n",
        "plt.show()"
      ],
      "metadata": {
        "id": "lFJSs_05t0q7"
      },
      "execution_count": null,
      "outputs": []
    },
    {
      "cell_type": "code",
      "source": [],
      "metadata": {
        "id": "XFogIHU9t6jp"
      },
      "execution_count": null,
      "outputs": []
    },
    {
      "cell_type": "markdown",
      "source": [],
      "metadata": {
        "id": "3mUiZQGfuBTJ"
      }
    }
  ]
}